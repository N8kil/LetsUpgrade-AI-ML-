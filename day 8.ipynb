{
 "cells": [
  {
   "cell_type": "markdown",
   "metadata": {},
   "source": [
    "# Map"
   ]
  },
  {
   "cell_type": "code",
   "execution_count": 2,
   "metadata": {},
   "outputs": [
    {
     "name": "stdout",
     "output_type": "stream",
     "text": [
      "9\n"
     ]
    }
   ],
   "source": [
    "#adding without using map \n",
    "def sum(a,b):\n",
    "    return a+b\n",
    "x= sum(5,4)\n",
    "print(x)\n"
   ]
  },
  {
   "cell_type": "code",
   "execution_count": 6,
   "metadata": {},
   "outputs": [
    {
     "name": "stdout",
     "output_type": "stream",
     "text": [
      "[7, 9, 11, 13, 15]\n"
     ]
    }
   ],
   "source": [
    "# adding using map\n",
    "def sum(a,b):\n",
    "    return a+b\n",
    "x = map(sum,[1,2,3,4,5],[6,7,8,9,10])\n",
    "print(list(x))\n"
   ]
  },
  {
   "cell_type": "code",
   "execution_count": 8,
   "metadata": {},
   "outputs": [
    {
     "name": "stdout",
     "output_type": "stream",
     "text": [
      "[2, 3, 4, 5, 6]\n"
     ]
    }
   ],
   "source": [
    "\n",
    "def sqr(a,b):\n",
    "    return a+b\n",
    "print(list(map(sqr, [ i for i in range(5)], (2,2,2,2,2) )))"
   ]
  },
  {
   "cell_type": "markdown",
   "metadata": {},
   "source": [
    "# Lambda"
   ]
  },
  {
   "cell_type": "code",
   "execution_count": 9,
   "metadata": {},
   "outputs": [
    {
     "data": {
      "text/plain": [
       "8"
      ]
     },
     "execution_count": 9,
     "metadata": {},
     "output_type": "execute_result"
    }
   ],
   "source": [
    "\n",
    "# without using lambda\n",
    "def sum(a):\n",
    "    return a+b\n",
    "\n",
    "sqr(3,5)\n",
    "\n"
   ]
  },
  {
   "cell_type": "code",
   "execution_count": 10,
   "metadata": {},
   "outputs": [
    {
     "data": {
      "text/plain": [
       "8"
      ]
     },
     "execution_count": 10,
     "metadata": {},
     "output_type": "execute_result"
    }
   ],
   "source": [
    "\n",
    "# with using lambda\n",
    "x = lambda a,b: a+b\n",
    "x(3,5)"
   ]
  },
  {
   "cell_type": "code",
   "execution_count": 19,
   "metadata": {},
   "outputs": [
    {
     "name": "stdout",
     "output_type": "stream",
     "text": [
      "3\n",
      "8\n"
     ]
    }
   ],
   "source": [
    "\n",
    "def sum(x):\n",
    "    print(x)\n",
    "    return lambda y: x+y\n",
    "a = sum(3)\n",
    "print(a(5))\n"
   ]
  },
  {
   "cell_type": "code",
   "execution_count": 18,
   "metadata": {},
   "outputs": [
    {
     "name": "stdout",
     "output_type": "stream",
     "text": [
      "[5, 6, 7, 8]\n"
     ]
    }
   ],
   "source": [
    "# using lambda with map\n",
    "print(list(map(lambda x: x+4,[1,2,3,4])))\n"
   ]
  },
  {
   "cell_type": "markdown",
   "metadata": {},
   "source": [
    "# FILTERING"
   ]
  },
  {
   "cell_type": "code",
   "execution_count": 24,
   "metadata": {},
   "outputs": [
    {
     "name": "stdout",
     "output_type": "stream",
     "text": [
      "[3, 4, 5]\n"
     ]
    }
   ],
   "source": [
    "\n",
    "# using filter\n",
    "def cmp(a):\n",
    "    if a>=3:\n",
    "        return a\n",
    "\n",
    "print(list(filter( cmp, [1,2,3,4,5] )))\n"
   ]
  },
  {
   "cell_type": "code",
   "execution_count": 25,
   "metadata": {},
   "outputs": [
    {
     "name": "stdout",
     "output_type": "stream",
     "text": [
      "[3, 4]\n"
     ]
    }
   ],
   "source": [
    " \n",
    "# using filter with lambda\n",
    "x = filter( lambda x: x>=3 ,[1,2,3,4])\n",
    "print(list(x))\n"
   ]
  },
  {
   "cell_type": "markdown",
   "metadata": {},
   "source": [
    "# reduce\n"
   ]
  },
  {
   "cell_type": "code",
   "execution_count": 28,
   "metadata": {},
   "outputs": [],
   "source": [
    "from functools import reduce "
   ]
  },
  {
   "cell_type": "code",
   "execution_count": 33,
   "metadata": {},
   "outputs": [
    {
     "name": "stdout",
     "output_type": "stream",
     "text": [
      "15\n"
     ]
    }
   ],
   "source": [
    "def sum(a,b):\n",
    "    return a+b\n",
    "\n",
    "x = reduce(sum, [1,2,3,4,5])\n",
    "print(x)"
   ]
  },
  {
   "cell_type": "code",
   "execution_count": 34,
   "metadata": {},
   "outputs": [
    {
     "data": {
      "text/plain": [
       "15"
      ]
     },
     "execution_count": 34,
     "metadata": {},
     "output_type": "execute_result"
    }
   ],
   "source": [
    "# using  reduce with lambda\n",
    "reduce( lambda x,y: x+y , [1,2,3,4,5] )\n"
   ]
  },
  {
   "cell_type": "markdown",
   "metadata": {},
   "source": [
    "# classes and objects\n"
   ]
  },
  {
   "cell_type": "code",
   "execution_count": 69,
   "metadata": {},
   "outputs": [
    {
     "name": "stdout",
     "output_type": "stream",
     "text": [
      "Hello, my name is Nikhil\n"
     ]
    }
   ],
   "source": [
    "class a:  \n",
    "    def __init__(self, name):  \n",
    "        self.name = name    \n",
    "    def abc(self):  \n",
    "        print('Hello, my name is', self.name)  \n",
    "    \n",
    "p = a('Nikhil')  \n",
    "p.abc()  "
   ]
  },
  {
   "cell_type": "code",
   "execution_count": 75,
   "metadata": {},
   "outputs": [
    {
     "name": "stdout",
     "output_type": "stream",
     "text": [
      "I'm a nikhil\n",
      "I'm a student\n"
     ]
    }
   ],
   "source": [
    "# using single obj\n",
    "class a: \n",
    "    a1 = \"student\"\n",
    "    a2 = \"nikhil\"\n",
    "    def abc(self): \n",
    "        print(\"I'm a\", self.a2) \n",
    "        print(\"I'm a\", self.a1) \n",
    "nikhil = a() \n",
    "nikhil.abc() \n"
   ]
  },
  {
   "cell_type": "code",
   "execution_count": 77,
   "metadata": {},
   "outputs": [],
   "source": [
    "#using two objects\n",
    "class office: \n",
    "    a = 'employee'\n",
    "    def __init__(self, branch, id): \n",
    "        self.branch = branch \n",
    "        self.id = id \n",
    "Nikhil = office(\"cse\", \"0001\") \n",
    "Raj = office(\"IT\", \"0002\") "
   ]
  },
  {
   "cell_type": "code",
   "execution_count": 78,
   "metadata": {},
   "outputs": [
    {
     "name": "stdout",
     "output_type": "stream",
     "text": [
      "Nikhil details:\n",
      "Rodger is a employee\n",
      "branch:  cse\n",
      "Color:  0001\n"
     ]
    }
   ],
   "source": [
    "print('Nikhil details:') \n",
    "print('Rodger is a', Nikhil.a) \n",
    "print('branch: ', Nikhil.branch) \n",
    "print('Color: ', Nikhil.id) "
   ]
  },
  {
   "cell_type": "code",
   "execution_count": 80,
   "metadata": {},
   "outputs": [
    {
     "name": "stdout",
     "output_type": "stream",
     "text": [
      "Raj details:\n",
      "Raj is a employee\n",
      "branch:  IT\n",
      "id:  0002\n"
     ]
    }
   ],
   "source": [
    "print('Raj details:') \n",
    "print('Raj is a', Raj.a) \n",
    "print('branch: ', Raj.branch) \n",
    "print('id: ', Raj.id) "
   ]
  },
  {
   "cell_type": "code",
   "execution_count": null,
   "metadata": {},
   "outputs": [],
   "source": []
  }
 ],
 "metadata": {
  "kernelspec": {
   "display_name": "Python 3",
   "language": "python",
   "name": "python3"
  },
  "language_info": {
   "codemirror_mode": {
    "name": "ipython",
    "version": 3
   },
   "file_extension": ".py",
   "mimetype": "text/x-python",
   "name": "python",
   "nbconvert_exporter": "python",
   "pygments_lexer": "ipython3",
   "version": "3.8.3"
  }
 },
 "nbformat": 4,
 "nbformat_minor": 4
}
